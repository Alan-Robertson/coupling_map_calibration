{
 "cells": [
  {
   "cell_type": "markdown",
   "id": "2fd57cf1",
   "metadata": {},
   "source": [
    "## Simulated Error Channels ##\n",
    "Shows the construction of the simulated error channels with associated Hinton diagrams.\n",
    "\n",
    "All cells should execute in less than a couple of seconds."
   ]
  },
  {
   "cell_type": "code",
   "execution_count": null,
   "id": "848a4c5a",
   "metadata": {},
   "outputs": [],
   "source": [
    "import numpy as np\n",
    "\n",
    "import matplotlib.pyplot as plt\n",
    "import seaborn as sbs\n",
    "\n",
    "sbs.set(style=\"darkgrid\")\n",
    "%matplotlib inline"
   ]
  },
  {
   "cell_type": "markdown",
   "id": "44ebd8c9",
   "metadata": {},
   "source": [
    "## Simulated Measurement Error Channel ##"
   ]
  },
  {
   "cell_type": "code",
   "execution_count": null,
   "id": "1275927d",
   "metadata": {},
   "outputs": [],
   "source": [
    "def gen_error_probs(\n",
    "    error_arr_c : list, # Error distance weights\n",
    "    error_arr_u : list, # Error state dependent weights up\n",
    "    error_arr_d : list, # Error state dependent weights down\n",
    "    n_qubits = 4):\n",
    "    '''\n",
    "        gen_error_probs\n",
    "        \n",
    "        Function to generate error probabilities for simulated measurement errors\n",
    "        \n",
    "        :: error_arr_c : list :: Weights on error sizes\n",
    "        :: error_arr_u : list :: Weights on \"up\" state depentent errors\n",
    "        :: error_arr_d : list :: Weights on \"down\" state depentent errors\n",
    "        :: n_qubits    : int  :: Number of qubits\n",
    "        \n",
    "        Returns a measurement error channel\n",
    "    \n",
    "    '''\n",
    "    \n",
    "    # Build initial prob vector\n",
    "    probs = [[0] * (2 ** n_qubits) for _ in range(2 ** n_qubits)]\n",
    "    \n",
    "    # Check size of weights\n",
    "    if len(error_arr_c) != n_qubits + 1:\n",
    "        raise Exception(\"Incorrect Error Array\")\n",
    "    \n",
    "    if len(error_arr_u) != n_qubits + 1:\n",
    "        raise Exception(\"Incorrect Error Array\")\n",
    "        \n",
    "        \n",
    "    if len(error_arr_d) != n_qubits + 1:\n",
    "        raise Exception(\"Incorrect Error Array\")\n",
    "    \n",
    "    # Fill vector\n",
    "    for row in range(2 ** n_qubits):\n",
    "        row_str = bin(row)[2:].zfill(n_qubits)\n",
    "\n",
    "\n",
    "        for col in range(2 ** n_qubits):\n",
    "            col_str = bin(col)[2:].zfill(n_qubits)\n",
    "\n",
    "            diff_str = [i - j for i, j in zip(list(map(int, row_str)), list(map(int, col_str)))]   \n",
    "            \n",
    "            probs[row][col] += error_arr_u[sum(1 if i == -1 else 0 for i in diff_str)]\n",
    "            probs[row][col] += error_arr_d[sum(1 if i == 1 else 0 for i in diff_str)]\n",
    "            probs[row][col] += error_arr_c[n_qubits - sum(1 if i == 0 else 0 for i in diff_str)]\n",
    "            \n",
    "            probs[row][col] = max(0, probs[row][col])\n",
    "            \n",
    "    #Normalise rows, we can then do arbitrary scaling factors in the error arr\n",
    "    for row, _ in enumerate(probs):\n",
    "        np_row = np.array(probs[row])\n",
    "        if sum(np_row) > 0:\n",
    "            np_row = np_row / sum(np_row) \n",
    "        probs[row] = list(np_row)\n",
    "\n",
    "    return probs"
   ]
  },
  {
   "cell_type": "markdown",
   "id": "3e6df831",
   "metadata": {},
   "source": [
    "## Hinton Diagram Constructor Function ##"
   ]
  },
  {
   "cell_type": "code",
   "execution_count": null,
   "id": "c6a50a7a",
   "metadata": {},
   "outputs": [],
   "source": [
    "# Based on code from matplotlib documentation #\n",
    "# https://matplotlib.org/stable/gallery/specialty_plots/hinton_demo.html #\n",
    "\n",
    "def hinton(matrix, max_weight=None, ax=None, n_qubits=4):\n",
    "    \"\"\"Draw Hinton diagram for visualizing a weight matrix.\"\"\"\n",
    "    ax = ax if ax is not None else plt.axes()\n",
    "\n",
    "    if not max_weight:\n",
    "        max_weight = 2 ** np.ceil(np.log2(np.abs(matrix).max()))\n",
    "\n",
    "    ax.patch.set_facecolor('gray')\n",
    "    ax.set_aspect('equal', 'box')\n",
    "\n",
    "    for (x, y), w in np.ndenumerate(matrix):\n",
    "        color = 'white' if w > 0 else 'black'\n",
    "        size = np.sqrt(abs(w) / max_weight)\n",
    "        rect = plt.Rectangle([x - size / 2, y - size / 2], size, size,\n",
    "                             facecolor=color, edgecolor=color)\n",
    "        ax.add_patch(rect)\n",
    "\n",
    "    ax.autoscale_view()\n",
    "    ax.invert_yaxis()\n",
    "    \n",
    "    # Square the plot\n",
    "    plt.figsize=(6, 6)\n",
    "\n",
    "    # Ticklabels\n",
    "    ticks = [bin(i)[2:].zfill(n_qubits) for i in range(2 ** n_qubits)]\n",
    "\n",
    "    ax.set_xticks([i for i in range(2 ** n_qubits)])\n",
    "    ax.set_xticklabels(ticks, rotation=45)\n",
    "    ax.xaxis.tick_top()\n",
    "\n",
    "    ax.set_yticks([i for i in range(2 ** n_qubits)])\n",
    "    ax.set_yticklabels(ticks, rotation=45)\n",
    "\n",
    "    # Remove grid\n",
    "    plt.grid(b=None)\n",
    "\n",
    "    # Remove Ticks\n",
    "    plt.tick_params(left=False, right=False, top=False, bottom=False)\n",
    "    return ax"
   ]
  },
  {
   "cell_type": "markdown",
   "id": "fae24d87",
   "metadata": {},
   "source": [
    "## Example Hinton Diagram ##"
   ]
  },
  {
   "cell_type": "code",
   "execution_count": null,
   "id": "ea48aacd",
   "metadata": {},
   "outputs": [],
   "source": [
    "n_qubits = 4\n",
    "probs = gen_error_probs(\n",
    "        [100, 5, 20, 1,0], # Const - Controls correlation of error weights\n",
    "        [0, 5, 0, 5, 0], # 1 -> 0 - Controls error biases\n",
    "        [0, 0, 0, 0, 0] # 0 -> 1 - Controls error biases\n",
    "        )\n",
    "ax = hinton(probs)"
   ]
  },
  {
   "cell_type": "markdown",
   "id": "5da1b918",
   "metadata": {},
   "source": [
    "## Example Correlated Error Channels ##"
   ]
  },
  {
   "cell_type": "code",
   "execution_count": null,
   "id": "2bce99b1",
   "metadata": {},
   "outputs": [],
   "source": [
    "probs = gen_error_probs(\n",
    "        [100, 10, 0,0,0], # Const - Controls correlation of error weights\n",
    "        [0, 0, 0, 0, 0], # 1 -> 0 - Controls error biases\n",
    "        [0, 0, 0, 0, 0] # 0 -> 1 - Controls error biases\n",
    "        )\n",
    "\n",
    "ax = hinton(probs)"
   ]
  },
  {
   "cell_type": "code",
   "execution_count": null,
   "id": "ad6ddb5a",
   "metadata": {},
   "outputs": [],
   "source": [
    "probs = gen_error_probs(\n",
    "        [100, 0, 10,0,0], # Const - Controls correlation of error weights\n",
    "        [0, 0, 0, 0, 0], # 1 -> 0 - Controls error biases\n",
    "        [0, 0, 0, 0, 0] # 0 -> 1 - Controls error biases\n",
    "        )\n",
    "\n",
    "ax = hinton(probs)"
   ]
  },
  {
   "cell_type": "code",
   "execution_count": null,
   "id": "bcdb6645",
   "metadata": {},
   "outputs": [],
   "source": [
    "probs = gen_error_probs(\n",
    "        [100, 0, 0, 10,0], # Const - Controls correlation of error weights\n",
    "        [0, 0, 0, 0, 0], # 1 -> 0 - Controls error biases\n",
    "        [0, 0, 0, 0, 0] # 0 -> 1 - Controls error biases\n",
    "        )\n",
    "\n",
    "ax = hinton(probs)"
   ]
  },
  {
   "cell_type": "code",
   "execution_count": null,
   "id": "4e64599d",
   "metadata": {},
   "outputs": [],
   "source": [
    "probs = gen_error_probs(\n",
    "        [100, 0, 0,0,10], # Const - Controls correlation of error weights\n",
    "        [0, 0, 0, 0, 0], # 1 -> 0 - Controls error biases\n",
    "        [0, 0, 0, 0, 0] # 0 -> 1 - Controls error biases\n",
    "        )\n",
    "\n",
    "ax = hinton(probs)"
   ]
  },
  {
   "cell_type": "markdown",
   "id": "355ceb91",
   "metadata": {},
   "source": [
    "## Example State Dependent Error Channels ##"
   ]
  },
  {
   "cell_type": "code",
   "execution_count": null,
   "id": "348e16f4",
   "metadata": {},
   "outputs": [],
   "source": [
    "probs = gen_error_probs(\n",
    "        [100, 0, 0,0,0], # Const - Controls correlation of error weights\n",
    "        [0, 10, 0, 0, 0], # 1 -> 0 - Controls error biases\n",
    "        [0, 0, 0, 0, 0] # 0 -> 1 - Controls error biases\n",
    "        )\n",
    "\n",
    "ax = hinton(probs)"
   ]
  },
  {
   "cell_type": "code",
   "execution_count": null,
   "id": "1a988d5e",
   "metadata": {},
   "outputs": [],
   "source": [
    "probs = gen_error_probs(\n",
    "        [100, 0, 0,0,0], # Const - Controls correlation of error weights\n",
    "        [0, 0, 10, 0, 0], # 1 -> 0 - Controls error biases\n",
    "        [0, 0, 0, 0, 0] # 0 -> 1 - Controls error biases\n",
    "        )\n",
    "\n",
    "ax = hinton(probs)"
   ]
  },
  {
   "cell_type": "code",
   "execution_count": null,
   "id": "57e4bd5e",
   "metadata": {},
   "outputs": [],
   "source": [
    "probs = gen_error_probs(\n",
    "        [100, 0, 0,0,0], # Const - Controls correlation of error weights\n",
    "        [0, 0, 0, 10, 0], # 1 -> 0 - Controls error biases\n",
    "        [0, 0, 0, 0, 0] # 0 -> 1 - Controls error biases\n",
    "        )\n",
    "\n",
    "ax = hinton(probs)"
   ]
  },
  {
   "cell_type": "code",
   "execution_count": null,
   "id": "d13a19aa",
   "metadata": {},
   "outputs": [],
   "source": [
    "probs = gen_error_probs(\n",
    "        [100, 0, 0,0,0], # Const - Controls correlation of error weights\n",
    "        [0, 0, 0, 0, 10], # 1 -> 0 - Controls error biases\n",
    "        [0, 0, 0, 0, 0] # 0 -> 1 - Controls error biases\n",
    "        )\n",
    "\n",
    "ax = hinton(probs)"
   ]
  }
 ],
 "metadata": {
  "kernelspec": {
   "display_name": "Python 3",
   "language": "python",
   "name": "python3"
  },
  "language_info": {
   "codemirror_mode": {
    "name": "ipython",
    "version": 3
   },
   "file_extension": ".py",
   "mimetype": "text/x-python",
   "name": "python",
   "nbconvert_exporter": "python",
   "pygments_lexer": "ipython3",
   "version": "3.9.7"
  }
 },
 "nbformat": 4,
 "nbformat_minor": 5
}
